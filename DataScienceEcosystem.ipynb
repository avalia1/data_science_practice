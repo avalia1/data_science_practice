{
 "cells": [
  {
   "cell_type": "markdown",
   "id": "313da6ff-cba6-4229-bdd2-5559c0136c46",
   "metadata": {},
   "source": [
    "# Data Science Tools and Ecosystem"
   ]
  },
  {
   "cell_type": "markdown",
   "id": "e252a013-a69f-46ad-8a20-0fae0e414620",
   "metadata": {},
   "source": [
    "## Author:\n",
    "Alberto Valido"
   ]
  },
  {
   "cell_type": "markdown",
   "id": "9ff2f72c-cb9c-4540-a9bd-876531c75483",
   "metadata": {},
   "source": [
    "In this notebook, Data Science Tools and Ecosystem are summarized."
   ]
  },
  {
   "cell_type": "markdown",
   "id": "e29926b9-c625-46f6-b87b-8e366ebb3dbb",
   "metadata": {},
   "source": [
    "**Objectives:**\n",
    "- List popular languages for Data Science\n",
    "- List common languages used by Data Scientists\n",
    "- List common Data Science tools\n",
    "- Evaluate arithmetic expressions"
   ]
  },
  {
   "cell_type": "markdown",
   "id": "0ecf41b6-ad8e-4b91-8c38-93a1696e7262",
   "metadata": {},
   "source": [
    "Some of the popular languages that Data Scientists use are:\n",
    "1. Python\n",
    "2. R\n",
    "3. Julia\n"
   ]
  },
  {
   "cell_type": "markdown",
   "id": "e23c4f41-a23a-42a6-9865-7b301974e667",
   "metadata": {},
   "source": [
    "Some of the commonly used libraries used by Data Scientists include:\n",
    "1. ggplot\n",
    "2. dplyr\n",
    "3. caret"
   ]
  },
  {
   "cell_type": "markdown",
   "id": "6da96f66-cab4-4d87-9ccb-e6be5f8bfdba",
   "metadata": {},
   "source": [
    "|Data Science Tools            |\n",
    "|------------------------------|\n",
    "|Jupyter Notebooks             |\n",
    "|Microsoft Visual Studio Code  |\n",
    "|R Studio                      |"
   ]
  },
  {
   "cell_type": "markdown",
   "id": "cbeeca79-055a-4ef5-9ee1-f3173677af8b",
   "metadata": {},
   "source": [
    "### Below are a few examples of evaluating arithmetic expressions in Python."
   ]
  },
  {
   "cell_type": "code",
   "execution_count": 4,
   "id": "5d8d1da6-b080-4832-9035-29b9229e8c39",
   "metadata": {},
   "outputs": [
    {
     "data": {
      "text/plain": [
       "17"
      ]
     },
     "execution_count": 4,
     "metadata": {},
     "output_type": "execute_result"
    }
   ],
   "source": [
    "# This a simple arithmetic expression to mutiply then add integers\n",
    "\n",
    "(3*4)+5"
   ]
  },
  {
   "cell_type": "code",
   "execution_count": 7,
   "id": "0bb38c42-ee4c-4840-9a55-481eecb2d4f1",
   "metadata": {},
   "outputs": [
    {
     "name": "stdout",
     "output_type": "stream",
     "text": [
      "3.3333333333333335\n"
     ]
    }
   ],
   "source": [
    "# This will convert 200 minutes to hours by diving by 60\n",
    "\n",
    "h = 200/60\n",
    "\n",
    "print(h)"
   ]
  },
  {
   "cell_type": "markdown",
   "id": "12499a43-f923-4b1c-9c9d-d70ba3fee66e",
   "metadata": {},
   "source": []
  }
 ],
 "metadata": {
  "kernelspec": {
   "display_name": "Python 3 (ipykernel)",
   "language": "python",
   "name": "python3"
  },
  "language_info": {
   "codemirror_mode": {
    "name": "ipython",
    "version": 3
   },
   "file_extension": ".py",
   "mimetype": "text/x-python",
   "name": "python",
   "nbconvert_exporter": "python",
   "pygments_lexer": "ipython3",
   "version": "3.11.9"
  }
 },
 "nbformat": 4,
 "nbformat_minor": 5
}
